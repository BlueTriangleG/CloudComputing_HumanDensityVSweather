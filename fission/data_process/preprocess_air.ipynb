{
 "cells": [
  {
   "cell_type": "code",
   "execution_count": 124,
   "metadata": {},
   "outputs": [],
   "source": [
    "import pandas as pd\n",
    "\n"
   ]
  },
  {
   "cell_type": "code",
   "execution_count": 125,
   "metadata": {},
   "outputs": [
    {
     "data": {
      "text/plain": [
       "['Data Info Panel',\n",
       " 'Metadata',\n",
       " 'AllData',\n",
       " 'Morwell East_10017',\n",
       " 'Altona North_10006',\n",
       " 'Dandenong_10022',\n",
       " 'Point Cook_10005',\n",
       " 'Brooklyn_10213',\n",
       " 'Geelong South_10107',\n",
       " 'Mooroolbark_10136',\n",
       " 'Footscray_10451',\n",
       " 'Traralgon_10011',\n",
       " 'Alphington_10001',\n",
       " 'Churchill_10219',\n",
       " 'Melton_10169',\n",
       " 'Moe_10218',\n",
       " 'Newborough_10352',\n",
       " 'Campbellfield_10425',\n",
       " 'Box Hill_10042',\n",
       " 'Melbourne CBD_10239',\n",
       " 'Brighton_10007',\n",
       " 'Morwell South_10217',\n",
       " 'Bendigo_10432']"
      ]
     },
     "execution_count": 125,
     "metadata": {},
     "output_type": "execute_result"
    }
   ],
   "source": [
    "xls = pd.ExcelFile('2022_All_sites_air_quality_hourly_avg_AIR-I-F-V-VH-O-S1-DB-M2-4-0.xlsx')\n",
    "\n",
    "# 获取所有工作表的名称\n",
    "sheet_names = xls.sheet_names\n",
    "sheet_names"
   ]
  },
  {
   "cell_type": "code",
   "execution_count": 126,
   "metadata": {},
   "outputs": [],
   "source": [
    "df_mel = pd.read_excel('2022_All_sites_air_quality_hourly_avg_AIR-I-F-V-VH-O-S1-DB-M2-4-0.xlsx', sheet_name = 'Melbourne CBD_10239')\n",
    "df_bh= pd.read_excel('2022_All_sites_air_quality_hourly_avg_AIR-I-F-V-VH-O-S1-DB-M2-4-0.xlsx', sheet_name = 'Box Hill_10042')\n",
    "df_melton = pd.read_excel('2022_All_sites_air_quality_hourly_avg_AIR-I-F-V-VH-O-S1-DB-M2-4-0.xlsx', sheet_name = 'Melton_10169')\n",
    "# df_Dandenong = pd.read_excel('2022_All_sites_air_quality_hourly_avg_AIR-I-F-V-VH-O-S1-DB-M2-4-0.xlsx', sheet_name = 'Dandenong_10022')\n",
    "# df_PointCook = pd.read_excel('2022_All_sites_air_quality_hourly_avg_AIR-I-F-V-VH-O-S1-DB-M2-4-0.xlsx', sheet_name = 'Point Cook_10005')\n",
    "df_Geelong = pd.read_excel('2022_All_sites_air_quality_hourly_avg_AIR-I-F-V-VH-O-S1-DB-M2-4-0.xlsx', sheet_name = 'Geelong South_10107')\n",
    "df_Bendigo= pd.read_excel('2022_All_sites_air_quality_hourly_avg_AIR-I-F-V-VH-O-S1-DB-M2-4-0.xlsx', sheet_name = 'Bendigo_10432')"
   ]
  },
  {
   "cell_type": "code",
   "execution_count": null,
   "metadata": {},
   "outputs": [],
   "source": [
    "df_Geelong = df_Geelong.rename(columns={'averageValue': 'BPM2.5'})"
   ]
  },
  {
   "cell_type": "code",
   "execution_count": 127,
   "metadata": {},
   "outputs": [],
   "source": [
    "def preprocess_dataframe(df):\n",
    "    # 将日期时间列转换为日期，并丢弃时间部分\n",
    "    df['datetime_local'] = pd.to_datetime(df['datetime_local']).dt.date\n",
    "    \n",
    "    # 根据日期进行分组，并计算每天的平均bpm2.5值\n",
    "    new_df = df.groupby(['datetime_local', 'location_name'])['BPM2.5'].mean().reset_index()\n",
    "    new_df2 = new_df.dropna()\n",
    "    return new_df2"
   ]
  },
  {
   "cell_type": "code",
   "execution_count": 128,
   "metadata": {},
   "outputs": [],
   "source": [
    "def preprocess_dataframe2(df):\n",
    "    # 将日期时间列转换为日期，并丢弃时间部分\n",
    "    df['datetime_local'] = pd.to_datetime(df['datetime_local']).dt.date\n",
    "    df= df.dropna()\n",
    "    # 根据日期进行分组，并计算每天的平均bpm2.5值\n",
    "    new_df = df.groupby(['datetime_local', 'location_name'])['SBPM25'].mean().reset_index()\n",
    "    \n",
    "    df2 = new_df.rename(columns={'SBPM25': 'BPM2.5'})\n",
    "    return df2"
   ]
  },
  {
   "cell_type": "code",
   "execution_count": 129,
   "metadata": {},
   "outputs": [],
   "source": [
    "df_mel2 = preprocess_dataframe(df_mel)\n",
    "df_bh2 = preprocess_dataframe2(df_bh)\n",
    "df_melton = preprocess_dataframe2(df_melton)\n",
    "df_Bendigo2 = preprocess_dataframe2(df_Bendigo)\n",
    "df_Geelong2 = preprocess_dataframe(df_Geelong)"
   ]
  },
  {
   "cell_type": "code",
   "execution_count": 130,
   "metadata": {},
   "outputs": [
    {
     "data": {
      "text/html": [
       "<div>\n",
       "<style scoped>\n",
       "    .dataframe tbody tr th:only-of-type {\n",
       "        vertical-align: middle;\n",
       "    }\n",
       "\n",
       "    .dataframe tbody tr th {\n",
       "        vertical-align: top;\n",
       "    }\n",
       "\n",
       "    .dataframe thead th {\n",
       "        text-align: right;\n",
       "    }\n",
       "</style>\n",
       "<table border=\"1\" class=\"dataframe\">\n",
       "  <thead>\n",
       "    <tr style=\"text-align: right;\">\n",
       "      <th></th>\n",
       "      <th>datetime_local</th>\n",
       "      <th>location_name</th>\n",
       "      <th>BPM2.5</th>\n",
       "    </tr>\n",
       "  </thead>\n",
       "  <tbody>\n",
       "    <tr>\n",
       "      <th>0</th>\n",
       "      <td>2022-01-01</td>\n",
       "      <td>Melbourne CBD</td>\n",
       "      <td>8.376130</td>\n",
       "    </tr>\n",
       "    <tr>\n",
       "      <th>1</th>\n",
       "      <td>2022-01-02</td>\n",
       "      <td>Melbourne CBD</td>\n",
       "      <td>7.866333</td>\n",
       "    </tr>\n",
       "    <tr>\n",
       "      <th>2</th>\n",
       "      <td>2022-01-03</td>\n",
       "      <td>Melbourne CBD</td>\n",
       "      <td>4.426875</td>\n",
       "    </tr>\n",
       "    <tr>\n",
       "      <th>3</th>\n",
       "      <td>2022-01-04</td>\n",
       "      <td>Melbourne CBD</td>\n",
       "      <td>7.743000</td>\n",
       "    </tr>\n",
       "    <tr>\n",
       "      <th>4</th>\n",
       "      <td>2022-01-05</td>\n",
       "      <td>Melbourne CBD</td>\n",
       "      <td>5.373917</td>\n",
       "    </tr>\n",
       "    <tr>\n",
       "      <th>...</th>\n",
       "      <td>...</td>\n",
       "      <td>...</td>\n",
       "      <td>...</td>\n",
       "    </tr>\n",
       "    <tr>\n",
       "      <th>1153</th>\n",
       "      <td>2022-01-25</td>\n",
       "      <td>Geelong South</td>\n",
       "      <td>9.209417</td>\n",
       "    </tr>\n",
       "    <tr>\n",
       "      <th>1154</th>\n",
       "      <td>2022-01-26</td>\n",
       "      <td>Geelong South</td>\n",
       "      <td>7.578000</td>\n",
       "    </tr>\n",
       "    <tr>\n",
       "      <th>1155</th>\n",
       "      <td>2022-01-27</td>\n",
       "      <td>Geelong South</td>\n",
       "      <td>7.792833</td>\n",
       "    </tr>\n",
       "    <tr>\n",
       "      <th>1156</th>\n",
       "      <td>2022-01-28</td>\n",
       "      <td>Geelong South</td>\n",
       "      <td>6.092417</td>\n",
       "    </tr>\n",
       "    <tr>\n",
       "      <th>1157</th>\n",
       "      <td>2022-01-29</td>\n",
       "      <td>Geelong South</td>\n",
       "      <td>4.422800</td>\n",
       "    </tr>\n",
       "  </tbody>\n",
       "</table>\n",
       "<p>1158 rows × 3 columns</p>\n",
       "</div>"
      ],
      "text/plain": [
       "     datetime_local  location_name    BPM2.5\n",
       "0        2022-01-01  Melbourne CBD  8.376130\n",
       "1        2022-01-02  Melbourne CBD  7.866333\n",
       "2        2022-01-03  Melbourne CBD  4.426875\n",
       "3        2022-01-04  Melbourne CBD  7.743000\n",
       "4        2022-01-05  Melbourne CBD  5.373917\n",
       "...             ...            ...       ...\n",
       "1153     2022-01-25  Geelong South  9.209417\n",
       "1154     2022-01-26  Geelong South  7.578000\n",
       "1155     2022-01-27  Geelong South  7.792833\n",
       "1156     2022-01-28  Geelong South  6.092417\n",
       "1157     2022-01-29  Geelong South  4.422800\n",
       "\n",
       "[1158 rows x 3 columns]"
      ]
     },
     "execution_count": 130,
     "metadata": {},
     "output_type": "execute_result"
    }
   ],
   "source": [
    "concatenated_df = pd.concat([df_mel2, df_bh2,df_melton, df_Bendigo2, df_Geelong2 ], axis=0, ignore_index=True)\n",
    "\n",
    "# 打印连接后的数据框的前几行\n",
    "concatenated_df"
   ]
  },
  {
   "cell_type": "code",
   "execution_count": 131,
   "metadata": {},
   "outputs": [],
   "source": [
    "def preprocess_new_air(filename):\n",
    "    air_data = pd.read_csv(filename)\n",
    "\n",
    "    target_cols = ['sit_name', 'until', 'averageValue']\n",
    "    air_data2 = air_data.filter(items=target_cols)\n",
    "\n",
    "    air_data2['until'] = pd.to_datetime(air_data2['until'])\n",
    "    air_data2['datetime_local'] = air_data2['until'].dt.strftime('%Y-%m-%d')\n",
    "\n",
    "    # Change col name\n",
    "    air_data2 = air_data2.rename(columns={'sit_name': 'location_name'})\n",
    "    air_data2 = air_data2.rename(columns={'averageValue': 'BPM2.5'})\n",
    "\n",
    "    # change col order\n",
    "    new_order = ['datetime_local', 'location_name', 'BPM2.5']\n",
    "    air_data2 = air_data2.reindex(columns=new_order)\n",
    "    # 移除原始的日期时间列\n",
    "    # air_data2.drop(columns=['until'], inplace=True)\n",
    "\n",
    "    return air_data2"
   ]
  },
  {
   "cell_type": "code",
   "execution_count": 132,
   "metadata": {},
   "outputs": [],
   "source": [
    "filename = 'air_24h+df.csv'\n",
    "test_df = preprocess_new_air('air_24h+df.csv')\n",
    "\n",
    "\n",
    "def concate_new_with_old(filename, old_df):\n",
    "    new_df =  preprocess_new_air(filename)\n",
    "    concatenated_df = pd.concat([old_df, new_df], axis=0, ignore_index=True)\n",
    "    return concatenated_df"
   ]
  },
  {
   "cell_type": "code",
   "execution_count": 133,
   "metadata": {},
   "outputs": [],
   "source": [
    "concatenated_df = pd.concat([concatenated_df, test_df], axis=0, ignore_index=True)"
   ]
  },
  {
   "cell_type": "code",
   "execution_count": 134,
   "metadata": {},
   "outputs": [],
   "source": [
    "final_df = concate_new_with_old(filename, concatenated_df)\n",
    "final_df.to_csv('Final_air.csv', index=False) "
   ]
  }
 ],
 "metadata": {
  "kernelspec": {
   "display_name": "Python 3",
   "language": "python",
   "name": "python3"
  },
  "language_info": {
   "codemirror_mode": {
    "name": "ipython",
    "version": 3
   },
   "file_extension": ".py",
   "mimetype": "text/x-python",
   "name": "python",
   "nbconvert_exporter": "python",
   "pygments_lexer": "ipython3",
   "version": "3.8.5"
  }
 },
 "nbformat": 4,
 "nbformat_minor": 2
}
