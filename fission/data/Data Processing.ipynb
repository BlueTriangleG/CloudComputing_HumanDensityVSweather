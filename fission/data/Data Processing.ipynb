{
 "cells": [
  {
   "cell_type": "code",
   "execution_count": 64,
   "id": "3b6c9e73",
   "metadata": {},
   "outputs": [],
   "source": [
    "import json\n",
    "\n",
    "# 打开并读取JSON文件\n",
    "with open('D:/unimelb/CCC/data/residential-dwellings.json', 'r') as file:\n",
    "    # 将文件内容解析为Python对象（字典或列表）\n",
    "    data = json.load(file)\n"
   ]
  },
  {
   "cell_type": "code",
   "execution_count": 65,
   "id": "75db8569",
   "metadata": {},
   "outputs": [
    {
     "name": "stdout",
     "output_type": "stream",
     "text": [
      "<class 'pandas.core.frame.DataFrame'>\n"
     ]
    }
   ],
   "source": [
    "import pandas as pd\n",
    "data = pd.DataFrame(data)\n",
    "print(type(data))"
   ]
  },
  {
   "cell_type": "code",
   "execution_count": 66,
   "id": "68f9cd13",
   "metadata": {},
   "outputs": [
    {
     "name": "stdout",
     "output_type": "stream",
     "text": [
      "266\n"
     ]
    }
   ],
   "source": [
    "rai_df = pd.read_csv('D:/unimelb/CCC/data/affordability.csv')\n",
    "\n",
    "# 打印 DataFrame 的长度\n",
    "print(len(rai_df))"
   ]
  },
  {
   "cell_type": "code",
   "execution_count": 67,
   "id": "40c86104",
   "metadata": {},
   "outputs": [
    {
     "data": {
      "text/plain": [
       "Index(['geography_name', ' rai_national_total_2014_q2',\n",
       "       ' rai_national_total_2014_q3', ' rai_national_total_2014_q4',\n",
       "       ' rai_national_total_2021_q1', ' rai_national_total_2014_q1', ' state',\n",
       "       ' rai_national_total_2020_q1', ' rai_national_total_2020_q2',\n",
       "       ' rai_national_total_2020_q3', ' rai_national_total_2011_q2',\n",
       "       ' rai_national_total_2020_q4', ' rai_national_total_2011_q1', ' city',\n",
       "       ' unique_id', ' rai_national_total_2013_q3',\n",
       "       ' rai_national_total_2013_q4', ' rai_national_total_2013_q1',\n",
       "       ' rai_national_total_2012_q4', ' rai_national_total_2013_q2',\n",
       "       ' rai_national_total_2015_q3', ' rai_national_total_2015_q4',\n",
       "       ' rai_national_total_2015_q1', ' rai_national_total_2015_q2',\n",
       "       ' rai_national_total_2016_q1', ' rai_national_total_2016_q2',\n",
       "       ' rai_national_total_2016_q3', ' rai_national_total_2016_q4',\n",
       "       ' rai_national_total_2012_q1', ' rai_national_total_2012_q3',\n",
       "       ' rai_national_total_2012_q2', ' rai_national_total_2017_q3',\n",
       "       ' rai_national_total_2017_q4', ' rai_national_total_2019_q1',\n",
       "       ' rai_national_total_2017_q1', ' rai_national_total_2019_q2',\n",
       "       ' rai_national_total_2017_q2', ' rai_national_total_2011_q4',\n",
       "       ' rai_national_total_2018_q4', ' rai_national_total_2018_q3',\n",
       "       ' rai_national_total_2018_q2', ' rai_national_total_2018_q1',\n",
       "       ' rai_national_total_2021_q2', ' rai_national_total_2019_q3',\n",
       "       ' rai_national_total_2019_q4'],\n",
       "      dtype='object')"
      ]
     },
     "execution_count": 67,
     "metadata": {},
     "output_type": "execute_result"
    }
   ],
   "source": [
    "rai_df.columns"
   ]
  },
  {
   "cell_type": "code",
   "execution_count": 68,
   "id": "5c4c57b8",
   "metadata": {},
   "outputs": [
    {
     "data": {
      "text/html": [
       "<div>\n",
       "<style scoped>\n",
       "    .dataframe tbody tr th:only-of-type {\n",
       "        vertical-align: middle;\n",
       "    }\n",
       "\n",
       "    .dataframe tbody tr th {\n",
       "        vertical-align: top;\n",
       "    }\n",
       "\n",
       "    .dataframe thead th {\n",
       "        text-align: right;\n",
       "    }\n",
       "</style>\n",
       "<table border=\"1\" class=\"dataframe\">\n",
       "  <thead>\n",
       "    <tr style=\"text-align: right;\">\n",
       "      <th></th>\n",
       "      <th>census_year</th>\n",
       "      <th>block_id</th>\n",
       "      <th>property_id</th>\n",
       "      <th>base_property_id</th>\n",
       "      <th>building_address</th>\n",
       "      <th>clue_small_area</th>\n",
       "      <th>dwelling_type</th>\n",
       "      <th>dwelling_number</th>\n",
       "      <th>longitude</th>\n",
       "      <th>latitude</th>\n",
       "      <th>location</th>\n",
       "    </tr>\n",
       "  </thead>\n",
       "  <tbody>\n",
       "    <tr>\n",
       "      <th>0</th>\n",
       "      <td>2017</td>\n",
       "      <td>355</td>\n",
       "      <td>107908</td>\n",
       "      <td>107908</td>\n",
       "      <td>463 Queensberry Street NORTH MELBOURNE 3051</td>\n",
       "      <td>North Melbourne</td>\n",
       "      <td>House/Townhouse</td>\n",
       "      <td>1</td>\n",
       "      <td>144.952007</td>\n",
       "      <td>-37.803558</td>\n",
       "      <td>{'lon': 144.95200710155, 'lat': -37.8035582919...</td>\n",
       "    </tr>\n",
       "  </tbody>\n",
       "</table>\n",
       "</div>"
      ],
      "text/plain": [
       "  census_year  block_id property_id base_property_id  \\\n",
       "0        2017       355      107908           107908   \n",
       "\n",
       "                              building_address  clue_small_area  \\\n",
       "0  463 Queensberry Street NORTH MELBOURNE 3051  North Melbourne   \n",
       "\n",
       "     dwelling_type  dwelling_number   longitude   latitude  \\\n",
       "0  House/Townhouse                1  144.952007 -37.803558   \n",
       "\n",
       "                                            location  \n",
       "0  {'lon': 144.95200710155, 'lat': -37.8035582919...  "
      ]
     },
     "execution_count": 68,
     "metadata": {},
     "output_type": "execute_result"
    }
   ],
   "source": [
    "data.head(1)"
   ]
  },
  {
   "cell_type": "code",
   "execution_count": 69,
   "id": "5da3cd9e",
   "metadata": {},
   "outputs": [],
   "source": [
    "del data['location']"
   ]
  },
  {
   "cell_type": "code",
   "execution_count": 70,
   "id": "fcbd9e3e",
   "metadata": {},
   "outputs": [],
   "source": [
    "del data['block_id']\n",
    "del data['property_id']  \n",
    "del data['base_property_id']\n",
    "del data['dwelling_number']"
   ]
  },
  {
   "cell_type": "code",
   "execution_count": 79,
   "id": "0ea5c8bf",
   "metadata": {},
   "outputs": [],
   "source": [
    "data['geography_name'] = data['building_address'].str.slice(start=-4)"
   ]
  },
  {
   "cell_type": "code",
   "execution_count": 80,
   "id": "f6355ee6",
   "metadata": {},
   "outputs": [
    {
     "data": {
      "text/plain": [
       "dwelling_type\n",
       "House/Townhouse           165836\n",
       "Residential Apartments     31864\n",
       "Student Apartments           951\n",
       "Name: count, dtype: int64"
      ]
     },
     "execution_count": 80,
     "metadata": {},
     "output_type": "execute_result"
    }
   ],
   "source": [
    "data['dwelling_type'].value_counts()"
   ]
  },
  {
   "cell_type": "code",
   "execution_count": 81,
   "id": "774a4cde",
   "metadata": {},
   "outputs": [
    {
     "data": {
      "text/html": [
       "<div>\n",
       "<style scoped>\n",
       "    .dataframe tbody tr th:only-of-type {\n",
       "        vertical-align: middle;\n",
       "    }\n",
       "\n",
       "    .dataframe tbody tr th {\n",
       "        vertical-align: top;\n",
       "    }\n",
       "\n",
       "    .dataframe thead th {\n",
       "        text-align: right;\n",
       "    }\n",
       "</style>\n",
       "<table border=\"1\" class=\"dataframe\">\n",
       "  <thead>\n",
       "    <tr style=\"text-align: right;\">\n",
       "      <th></th>\n",
       "      <th>census_year</th>\n",
       "      <th>building_address</th>\n",
       "      <th>clue_small_area</th>\n",
       "      <th>dwelling_type</th>\n",
       "      <th>longitude</th>\n",
       "      <th>latitude</th>\n",
       "      <th>geography_name</th>\n",
       "    </tr>\n",
       "  </thead>\n",
       "  <tbody>\n",
       "    <tr>\n",
       "      <th>0</th>\n",
       "      <td>2017</td>\n",
       "      <td>463 Queensberry Street NORTH MELBOURNE 3051</td>\n",
       "      <td>North Melbourne</td>\n",
       "      <td>House/Townhouse</td>\n",
       "      <td>144.952007</td>\n",
       "      <td>-37.803558</td>\n",
       "      <td>3051</td>\n",
       "    </tr>\n",
       "  </tbody>\n",
       "</table>\n",
       "</div>"
      ],
      "text/plain": [
       "  census_year                             building_address  clue_small_area  \\\n",
       "0        2017  463 Queensberry Street NORTH MELBOURNE 3051  North Melbourne   \n",
       "\n",
       "     dwelling_type   longitude   latitude geography_name  \n",
       "0  House/Townhouse  144.952007 -37.803558           3051  "
      ]
     },
     "execution_count": 81,
     "metadata": {},
     "output_type": "execute_result"
    }
   ],
   "source": [
    "data.head(1)"
   ]
  },
  {
   "cell_type": "code",
   "execution_count": 82,
   "id": "7e3612f2",
   "metadata": {},
   "outputs": [
    {
     "data": {
      "text/plain": [
       "dtype('O')"
      ]
     },
     "execution_count": 82,
     "metadata": {},
     "output_type": "execute_result"
    }
   ],
   "source": [
    "rai_df['geography_name'].dtype"
   ]
  },
  {
   "cell_type": "code",
   "execution_count": 83,
   "id": "f34da812",
   "metadata": {},
   "outputs": [],
   "source": [
    "rai_df['geography_name'] = rai_df['geography_name'].astype(str)"
   ]
  },
  {
   "cell_type": "code",
   "execution_count": 75,
   "id": "86b6f977",
   "metadata": {},
   "outputs": [
    {
     "name": "stdout",
     "output_type": "stream",
     "text": [
      "转换前的数据类型: object\n",
      "转换后的数据类型: object\n"
     ]
    }
   ],
   "source": [
    "# 检查转换前的数据类型\n",
    "print(\"转换前的数据类型:\", rai_df['geography_name'].dtype)\n",
    "\n",
    "# 转换数据类型为字符串\n",
    "rai_df['geography_name'] = rai_df['geography_name'].astype(str)\n",
    "\n",
    "# 检查转换后的数据类型\n",
    "print(\"转换后的数据类型:\", rai_df['geography_name'].dtype)\n"
   ]
  },
  {
   "cell_type": "code",
   "execution_count": 76,
   "id": "7b55943b",
   "metadata": {},
   "outputs": [
    {
     "name": "stdout",
     "output_type": "stream",
     "text": [
      "geography_name 列存在于 rai_df 数据框中。\n"
     ]
    }
   ],
   "source": [
    "if 'geography_name' in rai_df.columns:\n",
    "    print(\"geography_name 列存在于 rai_df 数据框中。\")\n",
    "else:\n",
    "    print(\"geography_name 列不存在于 rai_df 数据框中。\")\n"
   ]
  },
  {
   "cell_type": "code",
   "execution_count": 77,
   "id": "2f9cc6fd",
   "metadata": {},
   "outputs": [
    {
     "name": "stdout",
     "output_type": "stream",
     "text": [
      "geography_name 列不存在于 data 数据框中。\n"
     ]
    }
   ],
   "source": [
    "if 'geography_name' in data.columns:\n",
    "    print(\"geography_name 列存在于 data 数据框中。\")\n",
    "else:\n",
    "    print(\"geography_name 列不存在于 data 数据框中。\")\n"
   ]
  },
  {
   "cell_type": "code",
   "execution_count": 84,
   "id": "05130ace",
   "metadata": {},
   "outputs": [],
   "source": [
    "merged_df = pd.merge(data, rai_df,  on='geography_name', how='inner')"
   ]
  },
  {
   "cell_type": "code",
   "execution_count": 85,
   "id": "2f3697f6",
   "metadata": {},
   "outputs": [
    {
     "data": {
      "text/html": [
       "<div>\n",
       "<style scoped>\n",
       "    .dataframe tbody tr th:only-of-type {\n",
       "        vertical-align: middle;\n",
       "    }\n",
       "\n",
       "    .dataframe tbody tr th {\n",
       "        vertical-align: top;\n",
       "    }\n",
       "\n",
       "    .dataframe thead th {\n",
       "        text-align: right;\n",
       "    }\n",
       "</style>\n",
       "<table border=\"1\" class=\"dataframe\">\n",
       "  <thead>\n",
       "    <tr style=\"text-align: right;\">\n",
       "      <th></th>\n",
       "      <th>census_year</th>\n",
       "      <th>building_address</th>\n",
       "      <th>clue_small_area</th>\n",
       "      <th>dwelling_type</th>\n",
       "      <th>longitude</th>\n",
       "      <th>latitude</th>\n",
       "      <th>geography_name</th>\n",
       "      <th>rai_national_total_2014_q2</th>\n",
       "      <th>rai_national_total_2014_q3</th>\n",
       "      <th>rai_national_total_2014_q4</th>\n",
       "      <th>...</th>\n",
       "      <th>rai_national_total_2019_q2</th>\n",
       "      <th>rai_national_total_2017_q2</th>\n",
       "      <th>rai_national_total_2011_q4</th>\n",
       "      <th>rai_national_total_2018_q4</th>\n",
       "      <th>rai_national_total_2018_q3</th>\n",
       "      <th>rai_national_total_2018_q2</th>\n",
       "      <th>rai_national_total_2018_q1</th>\n",
       "      <th>rai_national_total_2021_q2</th>\n",
       "      <th>rai_national_total_2019_q3</th>\n",
       "      <th>rai_national_total_2019_q4</th>\n",
       "    </tr>\n",
       "  </thead>\n",
       "  <tbody>\n",
       "    <tr>\n",
       "      <th>0</th>\n",
       "      <td>2017</td>\n",
       "      <td>463 Queensberry Street NORTH MELBOURNE 3051</td>\n",
       "      <td>North Melbourne</td>\n",
       "      <td>House/Townhouse</td>\n",
       "      <td>144.952007</td>\n",
       "      <td>-37.803558</td>\n",
       "      <td>3051</td>\n",
       "      <td>114.6205</td>\n",
       "      <td>135.2163</td>\n",
       "      <td>109.8901</td>\n",
       "      <td>...</td>\n",
       "      <td>108.9744</td>\n",
       "      <td>109.8901</td>\n",
       "      <td>99.7151</td>\n",
       "      <td>108.9744</td>\n",
       "      <td>122.5962</td>\n",
       "      <td>111.451</td>\n",
       "      <td>128.3729</td>\n",
       "      <td>148.3516</td>\n",
       "      <td>119.315</td>\n",
       "      <td>106.6054</td>\n",
       "    </tr>\n",
       "  </tbody>\n",
       "</table>\n",
       "<p>1 rows × 51 columns</p>\n",
       "</div>"
      ],
      "text/plain": [
       "  census_year                             building_address  clue_small_area  \\\n",
       "0        2017  463 Queensberry Street NORTH MELBOURNE 3051  North Melbourne   \n",
       "\n",
       "     dwelling_type   longitude   latitude geography_name  \\\n",
       "0  House/Townhouse  144.952007 -37.803558           3051   \n",
       "\n",
       "    rai_national_total_2014_q2   rai_national_total_2014_q3  \\\n",
       "0                     114.6205                     135.2163   \n",
       "\n",
       "    rai_national_total_2014_q4  ...   rai_national_total_2019_q2  \\\n",
       "0                     109.8901  ...                     108.9744   \n",
       "\n",
       "    rai_national_total_2017_q2  rai_national_total_2011_q4  \\\n",
       "0                     109.8901                     99.7151   \n",
       "\n",
       "    rai_national_total_2018_q4   rai_national_total_2018_q3  \\\n",
       "0                     108.9744                     122.5962   \n",
       "\n",
       "    rai_national_total_2018_q2   rai_national_total_2018_q1  \\\n",
       "0                      111.451                     128.3729   \n",
       "\n",
       "    rai_national_total_2021_q2   rai_national_total_2019_q3  \\\n",
       "0                     148.3516                      119.315   \n",
       "\n",
       "   rai_national_total_2019_q4  \n",
       "0                    106.6054  \n",
       "\n",
       "[1 rows x 51 columns]"
      ]
     },
     "execution_count": 85,
     "metadata": {},
     "output_type": "execute_result"
    }
   ],
   "source": [
    "merged_df.head(1)"
   ]
  },
  {
   "cell_type": "code",
   "execution_count": 86,
   "id": "580f5f7c",
   "metadata": {},
   "outputs": [
    {
     "data": {
      "text/plain": [
       "geography_name\n",
       "3031    56247\n",
       "3051    40977\n",
       "3053    33050\n",
       "3141    15905\n",
       "3002    14626\n",
       "3052    14622\n",
       "3003    12984\n",
       "3000     6807\n",
       "3008     1859\n",
       "3006     1155\n",
       "3004      326\n",
       "3005       27\n",
       "3207       23\n",
       "3010       20\n",
       "3054       19\n",
       "3181        2\n",
       "Name: count, dtype: int64"
      ]
     },
     "execution_count": 86,
     "metadata": {},
     "output_type": "execute_result"
    }
   ],
   "source": [
    "merged_df['geography_name'].value_counts()"
   ]
  },
  {
   "cell_type": "code",
   "execution_count": 87,
   "id": "c3d0d27d",
   "metadata": {},
   "outputs": [
    {
     "data": {
      "text/plain": [
       "(198649, 51)"
      ]
     },
     "execution_count": 87,
     "metadata": {},
     "output_type": "execute_result"
    }
   ],
   "source": [
    "merged_df.shape"
   ]
  },
  {
   "cell_type": "code",
   "execution_count": 88,
   "id": "cade49b6",
   "metadata": {},
   "outputs": [],
   "source": [
    "# merged_df.drop(['longitude', 'latitude'], axis=1, inplace=True)\n",
    "merged_df.drop('census_year', axis=1, inplace=True)\n",
    "# 检查每行中是否有任何NA值\n",
    "contains_nas = merged_df.isna().any(axis=1)\n",
    "\n",
    "df_clean = merged_df[~contains_nas]"
   ]
  },
  {
   "cell_type": "code",
   "execution_count": 89,
   "id": "94e6b8e7",
   "metadata": {},
   "outputs": [],
   "source": [
    "df_clean.to_csv('./data.csv', encoding='utf-8', index=False)"
   ]
  },
  {
   "cell_type": "code",
   "execution_count": null,
   "id": "000f5c40",
   "metadata": {},
   "outputs": [],
   "source": []
  }
 ],
 "metadata": {
  "kernelspec": {
   "display_name": "Python 3",
   "language": "python",
   "name": "python3"
  },
  "language_info": {
   "codemirror_mode": {
    "name": "ipython",
    "version": 3
   },
   "file_extension": ".py",
   "mimetype": "text/x-python",
   "name": "python",
   "nbconvert_exporter": "python",
   "pygments_lexer": "ipython3",
   "version": "3.8.8"
  }
 },
 "nbformat": 4,
 "nbformat_minor": 5
}
