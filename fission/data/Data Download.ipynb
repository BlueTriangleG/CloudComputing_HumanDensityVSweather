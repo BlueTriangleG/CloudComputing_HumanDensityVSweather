{
 "cells": [
  {
   "cell_type": "code",
   "execution_count": null,
   "id": "e397cdf2",
   "metadata": {},
   "outputs": [],
   "source": [
    "import requests\n",
    "\n",
    "url = 'https://data.melbourne.vic.gov.au/api/v2/catalog/datasets/residential-dwellings/exports/csv?delimiter=%2C'\n",
    "response = requests.get(url)\n",
    "\n",
    "if response.status_code == 200:\n",
    "    with open('data.csv', 'wb') as file:\n",
    "        file.write(response.content)\n",
    "    print(\"CSV downloaded successfully\")\n",
    "else:\n",
    "    print(f\"Failed，Status code：{response.status_code}\")"
   ]
  }
 ],
 "metadata": {
  "kernelspec": {
   "display_name": "Python 3",
   "language": "python",
   "name": "python3"
  },
  "language_info": {
   "codemirror_mode": {
    "name": "ipython",
    "version": 3
   },
   "file_extension": ".py",
   "mimetype": "text/x-python",
   "name": "python",
   "nbconvert_exporter": "python",
   "pygments_lexer": "ipython3",
   "version": "3.7.6"
  }
 },
 "nbformat": 4,
 "nbformat_minor": 5
}
