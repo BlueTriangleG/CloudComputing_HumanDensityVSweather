{
 "cells": [
  {
   "cell_type": "code",
   "execution_count": 186,
   "metadata": {},
   "outputs": [],
   "source": [
    "# import libraries.\n",
    "import requests\n",
    "import json\n",
    "import os\n",
    "import os\n",
    "import asyncio\n",
    "import aiohttp"
   ]
  },
  {
   "cell_type": "code",
   "execution_count": 187,
   "metadata": {},
   "outputs": [],
   "source": [
    "# get real time data from backend elastic search\n",
    "\n",
    "# server config, using portforwarding\n",
    "def get_data(restpath, filename):\n",
    "    BASE_URL = \"http://127.0.0.1:9090\"\n",
    "    URL = f\"{BASE_URL}/{restpath}\"\n",
    "    print(URL)\n",
    "    try:\n",
    "         with requests.get(URL, stream=True) as response:\n",
    "            if response.status_code == 200:\n",
    "                print(f\"Retrieving data from {URL}...\")\n",
    "                data_list = []\n",
    "                for line in response.iter_lines():\n",
    "                    if line:\n",
    "                        data = json.loads(line.decode('utf-8'))\n",
    "                        data_list.append(data)\n",
    "\n",
    "                # 异步保存数据到文件\n",
    "                save_data_to_file(data_list, filename)\n",
    "    except requests.exceptions.RequestException as e:\n",
    "        print(f\"Error: An exception occurred while requesting data from {URL}. Exception: {e}\")\n",
    "        return None\n",
    "    \n",
    "def save_data_to_file(data, filename):\n",
    "    with open(filename, 'w') as f:\n",
    "        json.dump(data, f, indent=4)\n",
    "    print(f\"Data saved to {filename}\")\n"
   ]
  },
  {
   "cell_type": "code",
   "execution_count": 196,
   "metadata": {},
   "outputs": [
    {
     "name": "stdout",
     "output_type": "stream",
     "text": [
      "http://127.0.0.1:9090/database/aircondition\n",
      "Retrieving data from http://127.0.0.1:9090/database/aircondition...\n",
      "Data saved to ./realtimeData/aircondition.json\n",
      "http://127.0.0.1:9090/database/weathercondition\n",
      "Retrieving data from http://127.0.0.1:9090/database/weathercondition...\n",
      "Data saved to ./realtimeData/weathercondition.json\n",
      "http://127.0.0.1:9090/database/mastodon-aus-social\n",
      "Retrieving data from http://127.0.0.1:9090/database/mastodon-aus-social...\n",
      "Data saved to ./realtimeData/mastodon-aus-social.json\n"
     ]
    }
   ],
   "source": [
    "# Obtain data from the backend server\n",
    "ROUTE_LIST = [\"aircondition\",\"weathercondition\",\"mastodon-aus-social\"]\n",
    "data_folder = './realtimeData'\n",
    "for route in ROUTE_LIST:\n",
    "        restpath = \"database/\" + route\n",
    "        filename = os.path.join(data_folder, f\"{route}.json\")\n",
    "        data = get_data(restpath,filename)\n",
    "\n",
    "\n"
   ]
  },
  {
   "cell_type": "code",
   "execution_count": 195,
   "metadata": {},
   "outputs": [
    {
     "name": "stdout",
     "output_type": "stream",
     "text": [
      "http://127.0.0.1:9090/database/mastodon-aus-social/2024-05-19-10/2024-05-19-13\n",
      "Retrieving data from http://127.0.0.1:9090/database/mastodon-aus-social/2024-05-19-10/2024-05-19-13...\n",
      "Data saved to timeperiod.json\n",
      "None\n"
     ]
    }
   ],
   "source": [
    "# Obtain data from different time period\n",
    "route_name = \"database/mastodon-aus-social/2024-05-19-10/2024-05-19-13\"\n",
    "data = get_data(route_name, \"timeperiod.json\")\n",
    "print(data)"
   ]
  },
  {
   "cell_type": "code",
   "execution_count": 212,
   "metadata": {},
   "outputs": [
    {
     "ename": "AttributeError",
     "evalue": "module 'aircondition_vs_sentiment' has no attribute 'load_mastodon_data'",
     "output_type": "error",
     "traceback": [
      "\u001b[0;31m---------------------------------------------------------------------------\u001b[0m",
      "\u001b[0;31mAttributeError\u001b[0m                            Traceback (most recent call last)",
      "Cell \u001b[0;32mIn[212], line 7\u001b[0m\n\u001b[1;32m      4\u001b[0m air_quality_file_path \u001b[38;5;241m=\u001b[39m \u001b[38;5;124m'\u001b[39m\u001b[38;5;124m../realtimeData/aircondition.json\u001b[39m\u001b[38;5;124m'\u001b[39m\n\u001b[1;32m      6\u001b[0m \u001b[38;5;66;03m# 加载数据\u001b[39;00m\n\u001b[0;32m----> 7\u001b[0m mastodon_df \u001b[38;5;241m=\u001b[39m \u001b[43mavs\u001b[49m\u001b[38;5;241;43m.\u001b[39;49m\u001b[43mload_mastodon_data\u001b[49m(mastodon_file_path)\n\u001b[1;32m      8\u001b[0m air_quality_data \u001b[38;5;241m=\u001b[39m avs\u001b[38;5;241m.\u001b[39mload_air_quality_data(air_quality_file_path)\n\u001b[1;32m     10\u001b[0m \u001b[38;5;66;03m# 合并数据\u001b[39;00m\n",
      "\u001b[0;31mAttributeError\u001b[0m: module 'aircondition_vs_sentiment' has no attribute 'load_mastodon_data'"
     ]
    }
   ],
   "source": [
    "import aircondition_vs_sentiment as avs\n",
    "\n",
    "mastodon_file_path = './realtimeData/mastodon-aus-social.json'\n",
    "air_quality_file_path = '../realtimeData/aircondition.json'\n",
    "\n",
    "# 加载数据\n",
    "mastodon_df = avs.load_mastodon_data(mastodon_file_path)\n",
    "air_quality_data = avs.load_air_quality_data(air_quality_file_path)\n",
    "\n",
    "# 合并数据\n",
    "merged_df = avs.merge_data(mastodon_df, air_quality_data)\n",
    "\n",
    "# 添加情绪分析列\n",
    "merged_df = avs.add_sentiment_column(merged_df)\n",
    "\n",
    "# 分析空气质量对情绪的影响\n",
    "grouped = avs.analyze_air_quality_impact(merged_df)\n",
    "\n",
    "# 可视化结果\n",
    "avs.visualize_air_quality_impact(grouped)\n"
   ]
  }
 ],
 "metadata": {
  "kernelspec": {
   "display_name": "ag",
   "language": "python",
   "name": "python3"
  },
  "language_info": {
   "codemirror_mode": {
    "name": "ipython",
    "version": 3
   },
   "file_extension": ".py",
   "mimetype": "text/x-python",
   "name": "python",
   "nbconvert_exporter": "python",
   "pygments_lexer": "ipython3",
   "version": "3.8.18"
  }
 },
 "nbformat": 4,
 "nbformat_minor": 2
}
