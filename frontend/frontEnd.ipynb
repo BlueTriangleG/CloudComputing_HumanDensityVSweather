{
 "cells": [
  {
   "cell_type": "code",
   "execution_count": 97,
   "metadata": {},
   "outputs": [],
   "source": [
    "# import libraries.\n",
    "import requests\n",
    "import json\n",
    "import os\n",
    "import os\n",
    "import asyncio\n",
    "import aiohttp"
   ]
  },
  {
   "cell_type": "markdown",
   "metadata": {},
   "source": []
  },
  {
   "cell_type": "code",
   "execution_count": 119,
   "metadata": {},
   "outputs": [],
   "source": [
    "# get real time data from backend elastic search\n",
    "\n",
    "# server config, using portforwarding\n",
    "def get_data(route_name, filename):\n",
    "    BASE_URL = \"http://127.0.0.1:9090\"\n",
    "    URL = f\"{BASE_URL}/datatype/{route_name}\"\n",
    "    print(URL)\n",
    "    try:\n",
    "         with requests.get(URL, stream=True) as response:\n",
    "            if response.status_code == 200:\n",
    "                print(f\"Retrieving data from {URL}...\")\n",
    "                data_list = []\n",
    "                for line in response.iter_lines():\n",
    "                    if line:\n",
    "                        data = json.loads(line.decode('utf-8'))\n",
    "                        data_list.append(data)\n",
    "\n",
    "                # 异步保存数据到文件\n",
    "                save_data_to_file(data_list, filename)\n",
    "    except requests.exceptions.RequestException as e:\n",
    "        print(f\"Error: An exception occurred while requesting data from {URL}. Exception: {e}\")\n",
    "        return None\n",
    "    \n",
    "def save_data_to_file(data, filename):\n",
    "    with open(filename, 'w') as f:\n",
    "        json.dump(data, f, indent=4)\n",
    "    print(f\"Data saved to {filename}\")\n"
   ]
  },
  {
   "cell_type": "code",
   "execution_count": null,
   "metadata": {},
   "outputs": [],
   "source": []
  },
  {
   "cell_type": "code",
   "execution_count": 163,
   "metadata": {},
   "outputs": [
    {
     "name": "stdout",
     "output_type": "stream",
     "text": [
      "http://127.0.0.1:9090/datatype/aircondition\n",
      "Retrieving data from http://127.0.0.1:9090/datatype/aircondition...\n",
      "Data saved to ./realtimeData/aircondition.json\n",
      "http://127.0.0.1:9090/datatype/weathercondition\n",
      "Retrieving data from http://127.0.0.1:9090/datatype/weathercondition...\n",
      "Data saved to ./realtimeData/weathercondition.json\n",
      "http://127.0.0.1:9090/datatype/mastodon-aus-social\n",
      "Retrieving data from http://127.0.0.1:9090/datatype/mastodon-aus-social...\n",
      "Data saved to ./realtimeData/mastodon-aus-social.json\n"
     ]
    }
   ],
   "source": [
    "# Obtain data from the backend server\n",
    "ROUTE_LIST = [\"aircondition\",\"weathercondition\",\"mastodon-aus-social\"]\n",
    "data_folder = './realtimeData'\n",
    "for route in ROUTE_LIST:\n",
    "        filename = os.path.join(data_folder, f\"{route}.json\")\n",
    "        data = get_data(route,filename)\n",
    "\n",
    "\n"
   ]
  },
  {
   "cell_type": "code",
   "execution_count": 148,
   "metadata": {},
   "outputs": [
    {
     "name": "stdout",
     "output_type": "stream",
     "text": [
      "http://127.0.0.1:9090/datatype/realestate-affordability\n",
      "Retrieving data from http://127.0.0.1:9090/datatype/realestate-affordability...\n",
      "Error: An exception occurred while requesting data from http://127.0.0.1:9090/datatype/realestate-affordability. Exception: (\"Connection broken: InvalidChunkLength(got length b'', 0 bytes read)\", InvalidChunkLength(got length b'', 0 bytes read))\n",
      "finish\n"
     ]
    }
   ],
   "source": [
    "data = get_data(\"realestate-affordability\", \"realestate-affordability.json\")\n",
    "print('finish')"
   ]
  },
  {
   "cell_type": "markdown",
   "metadata": {},
   "source": []
  },
  {
   "cell_type": "code",
   "execution_count": 173,
   "metadata": {},
   "outputs": [
    {
     "name": "stdout",
     "output_type": "stream",
     "text": [
      "http://127.0.0.1:9090/datatype/mastodon-aus-social/timeperiod/2024-05-18-01/2024-05-19-20\n",
      "Retrieving data from http://127.0.0.1:9090/datatype/mastodon-aus-social/timeperiod/2024-05-18-01/2024-05-19-20...\n",
      "Data saved to timeperiod.json\n",
      "None\n"
     ]
    }
   ],
   "source": [
    "# Obtain data from different time period\n",
    "route_name = \"mastodon-aus-social/timeperiod/2024-05-18-01/2024-05-18-05\"\n",
    "data = get_data(route_name, \"timeperiod.json\")\n",
    "print(data)"
   ]
  },
  {
   "cell_type": "markdown",
   "metadata": {},
   "source": []
  },
  {
   "cell_type": "markdown",
   "metadata": {},
   "source": []
  },
  {
   "cell_type": "markdown",
   "metadata": {},
   "source": []
  },
  {
   "cell_type": "markdown",
   "metadata": {},
   "source": []
  },
  {
   "cell_type": "markdown",
   "metadata": {},
   "source": []
  }
 ],
 "metadata": {
  "kernelspec": {
   "display_name": "ag",
   "language": "python",
   "name": "python3"
  },
  "language_info": {
   "codemirror_mode": {
    "name": "ipython",
    "version": 3
   },
   "file_extension": ".py",
   "mimetype": "text/x-python",
   "name": "python",
   "nbconvert_exporter": "python",
   "pygments_lexer": "ipython3",
   "version": "3.8.18"
  }
 },
 "nbformat": 4,
 "nbformat_minor": 2
}
