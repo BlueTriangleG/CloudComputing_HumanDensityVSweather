{
 "cells": [
  {
   "cell_type": "code",
   "execution_count": 4,
   "metadata": {},
   "outputs": [],
   "source": [
    "# import libraries.\n",
    "import requests\n",
    "import json\n",
    "import os\n"
   ]
  },
  {
   "cell_type": "code",
   "execution_count": 5,
   "metadata": {},
   "outputs": [],
   "source": [
    "# get real time data from backend elastic search\n",
    "\n",
    "# server config, using portforwarding\n",
    "def get_data(route_name):\n",
    "    BASE_URL = \"http://127.0.0.1:9090\"\n",
    "    URL = f\"{BASE_URL}/datatype/{route_name}\"\n",
    "\n",
    "    try:\n",
    "        # send HTTP GET request to the URL\n",
    "        response = requests.get(URL)\n",
    "\n",
    "        # check if the request was successful\n",
    "        if response.status_code == 200:\n",
    "            data = response.json()\n",
    "            return data\n",
    "        else:\n",
    "            print(f\"Error: Failed to retrieve data from {URL}. HTTP status code: {response.status_code}\")\n",
    "            return None\n",
    "    except requests.exceptions.RequestException as e:\n",
    "        print(f\"Error: An exception occurred while requesting data from {URL}. Exception: {e}\")\n",
    "        return None\n",
    "    \n",
    "def save_data_to_file(data, filename):\n",
    "    with open(filename, 'w') as f:\n",
    "        json.dump(data, f, indent=4)\n",
    "    print(f\"Data saved to {filename}\")\n"
   ]
  },
  {
   "cell_type": "code",
   "execution_count": 7,
   "metadata": {},
   "outputs": [
    {
     "name": "stdout",
     "output_type": "stream",
     "text": [
      "Data saved to ./aircondition.json\n",
      "Data saved to ./weathercondition.json\n",
      "Data saved to ./mastodon-aus-social.json\n"
     ]
    }
   ],
   "source": [
    "# Obtain data from the backend server\n",
    "ROUTE_LIST = [\"aircondition\",\"weathercondition\",\"mastodon-aus-social\"]\n",
    "data_folder = './realtimeData'\n",
    "\n",
    "for route in ROUTE_LIST:\n",
    "        data = get_data(route)\n",
    "        if data:\n",
    "            filename = os.path.join(data_folder, f\"{route}.json\")\n",
    "            save_data_to_file(data, filename)\n",
    "        else:\n",
    "            print(f\"No data retrieved for route: {route}\")\n"
   ]
  }
 ],
 "metadata": {
  "kernelspec": {
   "display_name": "ag",
   "language": "python",
   "name": "python3"
  },
  "language_info": {
   "codemirror_mode": {
    "name": "ipython",
    "version": 3
   },
   "file_extension": ".py",
   "mimetype": "text/x-python",
   "name": "python",
   "nbconvert_exporter": "python",
   "pygments_lexer": "ipython3",
   "version": "3.8.18"
  }
 },
 "nbformat": 4,
 "nbformat_minor": 2
}
