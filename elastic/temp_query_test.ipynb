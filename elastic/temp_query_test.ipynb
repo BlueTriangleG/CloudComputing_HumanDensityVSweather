{
 "cells": [
  {
   "cell_type": "code",
   "execution_count": null,
   "metadata": {},
   "outputs": [],
   "source": [
    "from elasticsearch import Elasticsearch\n",
    "from elasticsearch.helpers import bulk\n",
    "import json\n",
    "from dotenv import load_dotenv # 需要一个.env file\n",
    "import os"
   ]
  },
  {
   "cell_type": "code",
   "execution_count": null,
   "metadata": {},
   "outputs": [],
   "source": [
    "load_dotenv()\n",
    "\n",
    "JSON_INDENT = 2\n",
    "INDEX_NAME = \"temperatures\" #数据库名称\n",
    "\n",
    "client = Elasticsearch(\n",
    "    \"https://localhost:9200/\",\n",
    "    # https://127.0.0.1:9200/temperatures',\n",
    "    verify_certs=False, \n",
    "    basic_auth=(\"elastic\", os.getenv(\"ELASTIC_PASSWORD\"))# 在cluster之后就要改\n",
    ")"
   ]
  },
  {
   "cell_type": "code",
   "execution_count": null,
   "metadata": {},
   "outputs": [],
   "source": [
    "def query_temp():\n",
    "    response = client.search(\n",
    "        index = INDEX_NAME, \n",
    "        body={\n",
    "            \"query\":{\n",
    "                \"script_score\":{\n",
    "                    \"query\":{\"match_all\":{}}, \n",
    "                    \"script\":{\n",
    "                        \"source\":\n",
    "                    }\n",
    "                }\n",
    "            }\n",
    "        }\n",
    "    )\n",
    "    return response\n"
   ]
  },
  {
   "cell_type": "code",
   "execution_count": null,
   "metadata": {},
   "outputs": [],
   "source": [
    "# 放入数据的指令\n",
    "# curl -XPUT -k 'https://127.0.0.1:9200/temperatures'\\\n",
    "#    --header 'Content-Type: application/json'\\\n",
    "#    --data '{\n",
    "#     \"settings\": {\n",
    "#         \"index\": {\n",
    "#             \"number_of_shards\": 3,\n",
    "#             \"number_of_replicas\": 1\n",
    "#         }\n",
    "#     },\n",
    "#     \"mappings\": {\n",
    "#         \"properties\": {\n",
    "#             \"date\": {\n",
    "#                 \"type\": \"date\"\n",
    "#             },\n",
    "#             \"temperature\": {\n",
    "#                 \"type\": \"dense_vector\",\n",
    "#                 \"dims\": 24,\n",
    "#                 \"index\": true,\n",
    "#                 \"similarity\": \"cosine\",\n",
    "#                 \"index_options\": {\n",
    "#                     \"type\": \"hnsw\",\n",
    "#                     \"m\": 16,\n",
    "#                     \"ef_construction\": 100\n",
    "#                 }\n",
    "#             }\n",
    "#         }\n",
    "#     }\n",
    "# }'\\\n",
    "#    --user 'elastic:{写密码}}' | jq '.'\n"
   ]
  }
 ],
 "metadata": {
  "language_info": {
   "name": "python"
  }
 },
 "nbformat": 4,
 "nbformat_minor": 2
}
